{
  "nbformat": 4,
  "nbformat_minor": 0,
  "metadata": {
    "colab": {
      "provenance": []
    },
    "kernelspec": {
      "name": "python3",
      "display_name": "Python 3"
    },
    "accelerator": "GPU"
  },
  "cells": [
    {
      "cell_type": "code",
      "metadata": {
        "id": "PSpAkUMcEZZM"
      },
      "source": [
        "from tensorflow import keras\n",
        "import numpy as np\n",
        "from matplotlib import pyplot as plt"
      ],
      "execution_count": null,
      "outputs": []
    },
    {
      "cell_type": "markdown",
      "metadata": {
        "id": "nuQxNlE_fVOE"
      },
      "source": [
        "# Load Dataset"
      ]
    },
    {
      "cell_type": "code",
      "metadata": {
        "id": "T8tUYEh2EgOF",
        "colab": {
          "base_uri": "https://localhost:8080/"
        },
        "outputId": "0ef41367-f565-4b52-d544-6a6e19937cad"
      },
      "source": [
        "# load dataset\n",
        "(x_train, y_train), (x_test, y_test) = keras.datasets.mnist.load_data()"
      ],
      "execution_count": null,
      "outputs": [
        {
          "output_type": "stream",
          "text": [
            "Downloading data from https://storage.googleapis.com/tensorflow/tf-keras-datasets/mnist.npz\n",
            "11493376/11490434 [==============================] - 0s 0us/step\n"
          ],
          "name": "stdout"
        }
      ]
    },
    {
      "cell_type": "code",
      "metadata": {
        "id": "opBD6EZzZ2ac"
      },
      "source": [
        "x_train = x_train.astype(float) / 255.\n",
        "x_test  = x_test.astype(float) / 255."
      ],
      "execution_count": null,
      "outputs": []
    },
    {
      "cell_type": "markdown",
      "metadata": {
        "id": "HmFRLdazfdTD"
      },
      "source": [
        "# MLP with one output neuron"
      ]
    },
    {
      "cell_type": "code",
      "metadata": {
        "id": "ZB7STerCEUiy",
        "colab": {
          "base_uri": "https://localhost:8080/"
        },
        "outputId": "cc2b95d1-1d42-4bc0-89e5-066ffe372452"
      },
      "source": [
        "# define model using two dense (fully connected) layers\n",
        "model = keras.Sequential()\n",
        "model.add(keras.layers.Input(shape=x_train[0].shape))\n",
        "model.add(keras.layers.Flatten())\n",
        "model.add(keras.layers.Dense(units=512, activation='relu'))\n",
        "model.add(keras.layers.Dense(units=1))\n",
        "\n",
        "model.summary()"
      ],
      "execution_count": null,
      "outputs": [
        {
          "output_type": "stream",
          "text": [
            "Model: \"sequential\"\n",
            "_________________________________________________________________\n",
            "Layer (type)                 Output Shape              Param #   \n",
            "=================================================================\n",
            "flatten (Flatten)            (None, 784)               0         \n",
            "_________________________________________________________________\n",
            "dense (Dense)                (None, 512)               401920    \n",
            "_________________________________________________________________\n",
            "dense_1 (Dense)              (None, 1)                 513       \n",
            "=================================================================\n",
            "Total params: 402,433\n",
            "Trainable params: 402,433\n",
            "Non-trainable params: 0\n",
            "_________________________________________________________________\n"
          ],
          "name": "stdout"
        }
      ]
    },
    {
      "cell_type": "code",
      "metadata": {
        "id": "hDTrLW0Tazh9"
      },
      "source": [
        "# compile model by:\n",
        "# A loss function – to measure performance on the training data, to steer in the right direction\n",
        "# An optimizer – to update the network\n",
        "model.compile(loss='mse', optimizer='adam')"
      ],
      "execution_count": null,
      "outputs": []
    },
    {
      "cell_type": "code",
      "metadata": {
        "id": "NzPko48fa4X1"
      },
      "source": [
        "# train model\n",
        "history = model.fit(x_train, y_train,\n",
        "                    validation_data=(x_test, y_test),\n",
        "                    batch_size=100,\n",
        "                    epochs=20,\n",
        "                    verbose=0,\n",
        "                    shuffle=True)"
      ],
      "execution_count": null,
      "outputs": []
    },
    {
      "cell_type": "code",
      "metadata": {
        "colab": {
          "base_uri": "https://localhost:8080/",
          "height": 874
        },
        "id": "U3wAhA7XbB7V",
        "outputId": "1d04fac0-ed1c-491c-c270-21ff9579ebfb"
      },
      "source": [
        "# show results\n",
        "y_pred = model.predict(x_test)\n",
        "np.set_printoptions(precision=2, linewidth=200)\n",
        "for i in range(8):\n",
        "  print(y_test[i])\n",
        "  print(y_pred[i])\n",
        "  plt.figure(figsize=(1, 1))\n",
        "  plt.imshow(x_test[i], cmap='gray')\n",
        "  plt.xticks([])\n",
        "  plt.yticks([])\n",
        "  plt.show()"
      ],
      "execution_count": null,
      "outputs": [
        {
          "output_type": "stream",
          "text": [
            "7\n",
            "[6.82]\n"
          ],
          "name": "stdout"
        },
        {
          "output_type": "display_data",
          "data": {
            "image/png": "[encoded data removed]",
            "text/plain": [
              "<Figure size 72x72 with 1 Axes>"
            ]
          },
          "metadata": {
            "tags": []
          }
        },
        {
          "output_type": "stream",
          "text": [
            "2\n",
            "[2.48]\n"
          ],
          "name": "stdout"
        },
        {
          "output_type": "display_data",
          "data": {
            "image/png": "[encoded data removed]",
            "text/plain": [
              "<Figure size 72x72 with 1 Axes>"
            ]
          },
          "metadata": {
            "tags": []
          }
        },
        {
          "output_type": "stream",
          "text": [
            "1\n",
            "[1.03]\n"
          ],
          "name": "stdout"
        },
        {
          "output_type": "display_data",
          "data": {
            "image/png": "[encoded data removed]",
            "text/plain": [
              "<Figure size 72x72 with 1 Axes>"
            ]
          },
          "metadata": {
            "tags": []
          }
        },
        {
          "output_type": "stream",
          "text": [
            "0\n",
            "[0.18]\n"
          ],
          "name": "stdout"
        },
        {
          "output_type": "display_data",
          "data": {
            "image/png": "[encoded data removed]",
            "text/plain": [
              "<Figure size 72x72 with 1 Axes>"
            ]
          },
          "metadata": {
            "tags": []
          }
        },
        {
          "output_type": "stream",
          "text": [
            "4\n",
            "[3.64]\n"
          ],
          "name": "stdout"
        },
        {
          "output_type": "display_data",
          "data": {
            "image/png": "[encoded data removed]",
            "text/plain": [
              "<Figure size 72x72 with 1 Axes>"
            ]
          },
          "metadata": {
            "tags": []
          }
        },
        {
          "output_type": "stream",
          "text": [
            "1\n",
            "[0.66]\n"
          ],
          "name": "stdout"
        },
        {
          "output_type": "display_data",
          "data": {
            "image/png": "[encoded data removed]",
            "text/plain": [
              "<Figure size 72x72 with 1 Axes>"
            ]
          },
          "metadata": {
            "tags": []
          }
        },
        {
          "output_type": "stream",
          "text": [
            "4\n",
            "[5.19]\n"
          ],
          "name": "stdout"
        },
        {
          "output_type": "display_data",
          "data": {
            "image/png": "[encoded data removed]",
            "text/plain": [
              "<Figure size 72x72 with 1 Axes>"
            ]
          },
          "metadata": {
            "tags": []
          }
        },
        {
          "output_type": "stream",
          "text": [
            "9\n",
            "[9.25]\n"
          ],
          "name": "stdout"
        },
        {
          "output_type": "display_data",
          "data": {
            "image/png": "[encoded data removed]",
            "text/plain": [
              "<Figure size 72x72 with 1 Axes>"
            ]
          },
          "metadata": {
            "tags": []
          }
        }
      ]
    },
    {
      "cell_type": "code",
      "metadata": {
        "colab": {
          "base_uri": "https://localhost:8080/"
        },
        "id": "9YsqYqRdbHoI",
        "outputId": "488cc891-5a9f-45e2-d06e-ce19941b4416"
      },
      "source": [
        "accuracy = np.average(np.round(y_pred[:, 0]) == y_test) * 100\n",
        "print('accuracy = {} %'.format(accuracy))"
      ],
      "execution_count": null,
      "outputs": [
        {
          "output_type": "stream",
          "text": [
            "accuracy = 68.56 %\n"
          ],
          "name": "stdout"
        }
      ]
    },
    {
      "cell_type": "code",
      "metadata": {
        "colab": {
          "base_uri": "https://localhost:8080/"
        },
        "id": "n3AFAvW_tQuq",
        "outputId": "df10ed6f-5177-4871-cd7c-acf222018d07"
      },
      "source": [
        "np.min(y_pred)"
      ],
      "execution_count": null,
      "outputs": [
        {
          "output_type": "execute_result",
          "data": {
            "text/plain": [
              "-1.6297326"
            ]
          },
          "metadata": {
            "tags": []
          },
          "execution_count": 10
        }
      ]
    },
    {
      "cell_type": "markdown",
      "metadata": {
        "id": "1MCLc-1yfos6"
      },
      "source": [
        "# MLP with categorical output"
      ]
    },
    {
      "cell_type": "code",
      "metadata": {
        "id": "oezcbGliE8TC"
      },
      "source": [
        "# Convert class vectors to binary class matrices.\n",
        "num_classes = 10\n",
        "y_train = keras.utils.to_categorical(y_train, num_classes)\n",
        "y_test = keras.utils.to_categorical(y_test, num_classes)"
      ],
      "execution_count": null,
      "outputs": []
    },
    {
      "cell_type": "code",
      "metadata": {
        "id": "qTCBBP84FoN1",
        "colab": {
          "base_uri": "https://localhost:8080/",
          "height": 120
        },
        "outputId": "6cfdbe9f-8724-4415-b7f8-a23b318f41ec"
      },
      "source": [
        "# show dataset\n",
        "plt.figure(figsize=(25,4))\n",
        "for i in range(8):\n",
        "  plt.subplot(1,8,i+1)\n",
        "  plt.imshow(x_train[i], cmap='gray')\n",
        "  plt.xticks([])\n",
        "  plt.yticks([])\n",
        "  plt.title(str(y_train[i]))"
      ],
      "execution_count": null,
      "outputs": [
        {
          "output_type": "display_data",
          "data": {
            "image/png": "[encoded data removed]",
            "text/plain": [
              "<Figure size 1800x288 with 8 Axes>"
            ]
          },
          "metadata": {
            "tags": []
          }
        }
      ]
    },
    {
      "cell_type": "code",
      "metadata": {
        "colab": {
          "base_uri": "https://localhost:8080/"
        },
        "id": "0j6u-zoScM_d",
        "outputId": "2441d9af-c577-4ced-ee31-1dea4dd3a933"
      },
      "source": [
        "# define model\n",
        "model = keras.Sequential()\n",
        "model.add(keras.layers.Input(shape=x_train[0].shape))\n",
        "model.add(keras.layers.Flatten())\n",
        "model.add(keras.layers.Dense(units=512, activation='relu'))\n",
        "model.add(keras.layers.Dense(units=10))\n",
        "\n",
        "model.summary()"
      ],
      "execution_count": null,
      "outputs": [
        {
          "output_type": "stream",
          "text": [
            "Model: \"sequential_1\"\n",
            "_________________________________________________________________\n",
            "Layer (type)                 Output Shape              Param #   \n",
            "=================================================================\n",
            "flatten_1 (Flatten)          (None, 784)               0         \n",
            "_________________________________________________________________\n",
            "dense_2 (Dense)              (None, 512)               401920    \n",
            "_________________________________________________________________\n",
            "dense_3 (Dense)              (None, 10)                5130      \n",
            "=================================================================\n",
            "Total params: 407,050\n",
            "Trainable params: 407,050\n",
            "Non-trainable params: 0\n",
            "_________________________________________________________________\n"
          ],
          "name": "stdout"
        }
      ]
    },
    {
      "cell_type": "code",
      "metadata": {
        "id": "9XmZzWF0Kwaj"
      },
      "source": [
        "# compile model\n",
        "model.compile(loss='mse', optimizer='adam')\n",
        "\n",
        "# train model\n",
        "history = model.fit(x_train, y_train,\n",
        "                    validation_data=(x_test, y_test),\n",
        "                    batch_size=100,\n",
        "                    epochs=20,\n",
        "                    verbose=0,\n",
        "                    shuffle=True)"
      ],
      "execution_count": null,
      "outputs": []
    },
    {
      "cell_type": "code",
      "metadata": {
        "colab": {
          "base_uri": "https://localhost:8080/",
          "height": 870
        },
        "id": "ZKNlQZnncnua",
        "outputId": "93e5a48a-a88a-4eaa-8572-22526b266311"
      },
      "source": [
        "# show results\n",
        "y_pred = model.predict(x_test)\n",
        "np.set_printoptions(precision=2, linewidth=200)\n",
        "for i in range(8):\n",
        "  print(y_test[i])\n",
        "  print(y_pred[i])\n",
        "  plt.figure(figsize=(1, 1))\n",
        "  plt.imshow(x_test[i], cmap='gray')\n",
        "  plt.xticks([])\n",
        "  plt.yticks([])\n",
        "  plt.show()"
      ],
      "execution_count": null,
      "outputs": [
        {
          "output_type": "stream",
          "text": [
            "[0. 0. 0. 0. 0. 0. 0. 1. 0. 0.]\n",
            "[ 0.    0.    0.02  0.04 -0.01  0.01  0.01  0.86  0.03  0.03]\n"
          ],
          "name": "stdout"
        },
        {
          "output_type": "display_data",
          "data": {
            "image/png": "[encoded data removed]",
            "text/plain": [
              "<Figure size 72x72 with 1 Axes>"
            ]
          },
          "metadata": {
            "tags": []
          }
        },
        {
          "output_type": "stream",
          "text": [
            "[0. 0. 1. 0. 0. 0. 0. 0. 0. 0.]\n",
            "[ 0.   -0.    0.94 -0.02  0.02  0.02  0.01  0.04 -0.02  0.03]\n"
          ],
          "name": "stdout"
        },
        {
          "output_type": "display_data",
          "data": {
            "image/png": "[encoded data removed]",
            "text/plain": [
              "<Figure size 72x72 with 1 Axes>"
            ]
          },
          "metadata": {
            "tags": []
          }
        },
        {
          "output_type": "stream",
          "text": [
            "[0. 1. 0. 0. 0. 0. 0. 0. 0. 0.]\n",
            "[-5.50e-03  9.86e-01 -1.44e-02 -1.11e-02 -8.57e-03 -5.50e-03 -1.81e-02  2.88e-04  2.24e-02  1.67e-02]\n"
          ],
          "name": "stdout"
        },
        {
          "output_type": "display_data",
          "data": {
            "image/png": "[encoded data removed]",
            "text/plain": [
              "<Figure size 72x72 with 1 Axes>"
            ]
          },
          "metadata": {
            "tags": []
          }
        },
        {
          "output_type": "stream",
          "text": [
            "[1. 0. 0. 0. 0. 0. 0. 0. 0. 0.]\n",
            "[ 1.06 -0.    0.01 -0.02 -0.01  0.   -0.01 -0.01 -0.04 -0.  ]\n"
          ],
          "name": "stdout"
        },
        {
          "output_type": "display_data",
          "data": {
            "image/png": "[encoded data removed]",
            "text/plain": [
              "<Figure size 72x72 with 1 Axes>"
            ]
          },
          "metadata": {
            "tags": []
          }
        },
        {
          "output_type": "stream",
          "text": [
            "[0. 0. 0. 0. 1. 0. 0. 0. 0. 0.]\n",
            "[-1.96e-02 -7.77e-03  3.51e-04 -3.85e-03  1.05e+00 -5.09e-03 -2.71e-02 -1.85e-02 -2.85e-02  3.20e-02]\n"
          ],
          "name": "stdout"
        },
        {
          "output_type": "display_data",
          "data": {
            "image/png": "[encoded data removed]",
            "text/plain": [
              "<Figure size 72x72 with 1 Axes>"
            ]
          },
          "metadata": {
            "tags": []
          }
        },
        {
          "output_type": "stream",
          "text": [
            "[0. 1. 0. 0. 0. 0. 0. 0. 0. 0.]\n",
            "[-0.01  1.01 -0.01 -0.   -0.01 -0.01 -0.02  0.01 -0.    0.01]\n"
          ],
          "name": "stdout"
        },
        {
          "output_type": "display_data",
          "data": {
            "image/png": "[encoded data removed]",
            "text/plain": [
              "<Figure size 72x72 with 1 Axes>"
            ]
          },
          "metadata": {
            "tags": []
          }
        },
        {
          "output_type": "stream",
          "text": [
            "[0. 0. 0. 0. 1. 0. 0. 0. 0. 0.]\n",
            "[ 0.02 -0.01  0.01  0.02  0.88  0.    0.01 -0.02 -0.01  0.07]\n"
          ],
          "name": "stdout"
        },
        {
          "output_type": "display_data",
          "data": {
            "image/png": "[encoded data removed]",
            "text/plain": [
              "<Figure size 72x72 with 1 Axes>"
            ]
          },
          "metadata": {
            "tags": []
          }
        },
        {
          "output_type": "stream",
          "text": [
            "[0. 0. 0. 0. 0. 0. 0. 0. 0. 1.]\n",
            "[-0.07  0.03  0.1   0.07  0.26  0.07 -0.01 -0.07  0.09  0.5 ]\n"
          ],
          "name": "stdout"
        },
        {
          "output_type": "display_data",
          "data": {
            "image/png": "[encoded data removed]",
            "text/plain": [
              "<Figure size 72x72 with 1 Axes>"
            ]
          },
          "metadata": {
            "tags": []
          }
        }
      ]
    },
    {
      "cell_type": "code",
      "metadata": {
        "colab": {
          "base_uri": "https://localhost:8080/"
        },
        "id": "omGo9ruhcvcm",
        "outputId": "3f76022f-5f24-48bf-8ed5-3a0e93130447"
      },
      "source": [
        "accuracy = np.average(np.argmax(y_pred, axis=1) == np.argmax(y_test, axis=1)) * 100\n",
        "print('accuracy = {} %'.format(accuracy))"
      ],
      "execution_count": null,
      "outputs": [
        {
          "output_type": "stream",
          "text": [
            "accuracy = 98.15 %\n"
          ],
          "name": "stdout"
        }
      ]
    },
    {
      "cell_type": "markdown",
      "metadata": {
        "id": "-Ro61Exff8Aa"
      },
      "source": [
        "# Add sigmoid activation"
      ]
    },
    {
      "cell_type": "code",
      "metadata": {
        "colab": {
          "base_uri": "https://localhost:8080/"
        },
        "id": "cKr2HIURc8vu",
        "outputId": "33f84574-753f-4f0a-87ad-ad70613f7963"
      },
      "source": [
        "# define model\n",
        "model = keras.Sequential()\n",
        "model.add(keras.layers.Input(shape=x_train[0].shape))\n",
        "model.add(keras.layers.Flatten())\n",
        "model.add(keras.layers.Dense(units=512, activation='relu'))\n",
        "model.add(keras.layers.Dense(units=10, activation='sigmoid'))\n",
        "\n",
        "model.summary()"
      ],
      "execution_count": null,
      "outputs": [
        {
          "output_type": "stream",
          "text": [
            "Model: \"sequential_2\"\n",
            "_________________________________________________________________\n",
            "Layer (type)                 Output Shape              Param #   \n",
            "=================================================================\n",
            "flatten_2 (Flatten)          (None, 784)               0         \n",
            "_________________________________________________________________\n",
            "dense_4 (Dense)              (None, 512)               401920    \n",
            "_________________________________________________________________\n",
            "dense_5 (Dense)              (None, 10)                5130      \n",
            "=================================================================\n",
            "Total params: 407,050\n",
            "Trainable params: 407,050\n",
            "Non-trainable params: 0\n",
            "_________________________________________________________________\n"
          ],
          "name": "stdout"
        }
      ]
    },
    {
      "cell_type": "code",
      "metadata": {
        "id": "xOlnrGW4dDut"
      },
      "source": [
        "# compile model\n",
        "model.compile(loss='mse', optimizer='adam')\n",
        "\n",
        "# train model\n",
        "history = model.fit(x_train, y_train,\n",
        "                    validation_data=(x_test, y_test),\n",
        "                    batch_size=100,\n",
        "                    epochs=20,\n",
        "                    verbose=0,\n",
        "                    shuffle=True)"
      ],
      "execution_count": null,
      "outputs": []
    },
    {
      "cell_type": "code",
      "metadata": {
        "id": "pZE-Q1csPLkm",
        "colab": {
          "base_uri": "https://localhost:8080/",
          "height": 870
        },
        "outputId": "4161f6da-115e-492a-8f1d-5c82a2b28b1c"
      },
      "source": [
        "# show results\n",
        "y_pred = model.predict(x_test)\n",
        "np.set_printoptions(precision=2, linewidth=200)\n",
        "for i in range(8):\n",
        "  print(y_test[i])\n",
        "  print(y_pred[i])\n",
        "  plt.figure(figsize=(1, 1))\n",
        "  plt.imshow(x_test[i], cmap='gray')\n",
        "  plt.xticks([])\n",
        "  plt.yticks([])\n",
        "  plt.show()"
      ],
      "execution_count": null,
      "outputs": [
        {
          "output_type": "stream",
          "text": [
            "[0. 0. 0. 0. 0. 0. 0. 1. 0. 0.]\n",
            "[2.07e-07 2.43e-10 3.37e-09 3.86e-06 9.25e-14 3.41e-10 1.12e-10 1.00e+00 2.48e-09 7.63e-08]\n"
          ],
          "name": "stdout"
        },
        {
          "output_type": "display_data",
          "data": {
            "image/png": "[encoded data removed]",
            "text/plain": [
              "<Figure size 72x72 with 1 Axes>"
            ]
          },
          "metadata": {
            "tags": []
          }
        },
        {
          "output_type": "stream",
          "text": [
            "[0. 0. 1. 0. 0. 0. 0. 0. 0. 0.]\n",
            "[2.95e-09 8.89e-09 1.00e+00 8.62e-09 3.62e-23 9.46e-10 5.68e-10 6.28e-24 2.23e-07 6.17e-16]\n"
          ],
          "name": "stdout"
        },
        {
          "output_type": "display_data",
          "data": {
            "image/png": "[encoded data removed]",
            "text/plain": [
              "<Figure size 72x72 with 1 Axes>"
            ]
          },
          "metadata": {
            "tags": []
          }
        },
        {
          "output_type": "stream",
          "text": [
            "[0. 1. 0. 0. 0. 0. 0. 0. 0. 0.]\n",
            "[7.82e-07 9.99e-01 1.41e-05 1.08e-07 4.05e-05 2.73e-05 4.58e-05 1.13e-05 1.69e-04 6.74e-08]\n"
          ],
          "name": "stdout"
        },
        {
          "output_type": "display_data",
          "data": {
            "image/png": "[encoded data removed]",
            "text/plain": [
              "<Figure size 72x72 with 1 Axes>"
            ]
          },
          "metadata": {
            "tags": []
          }
        },
        {
          "output_type": "stream",
          "text": [
            "[1. 0. 0. 0. 0. 0. 0. 0. 0. 0.]\n",
            "[1.00e+00 1.32e-06 7.02e-07 2.42e-06 8.35e-10 5.25e-09 5.20e-07 2.88e-09 1.72e-14 1.01e-08]\n"
          ],
          "name": "stdout"
        },
        {
          "output_type": "display_data",
          "data": {
            "image/png": "[encoded data removed]",
            "text/plain": [
              "<Figure size 72x72 with 1 Axes>"
            ]
          },
          "metadata": {
            "tags": []
          }
        },
        {
          "output_type": "stream",
          "text": [
            "[0. 0. 0. 0. 1. 0. 0. 0. 0. 0.]\n",
            "[2.79e-07 7.93e-12 5.78e-07 2.93e-09 1.00e+00 5.66e-08 1.12e-07 4.97e-07 7.65e-09 3.78e-04]\n"
          ],
          "name": "stdout"
        },
        {
          "output_type": "display_data",
          "data": {
            "image/png": "[encoded data removed]",
            "text/plain": [
              "<Figure size 72x72 with 1 Axes>"
            ]
          },
          "metadata": {
            "tags": []
          }
        },
        {
          "output_type": "stream",
          "text": [
            "[0. 1. 0. 0. 0. 0. 0. 0. 0. 0.]\n",
            "[6.75e-07 1.00e+00 1.62e-07 2.21e-08 2.28e-05 1.00e-08 2.01e-06 2.06e-05 6.48e-06 4.70e-09]\n"
          ],
          "name": "stdout"
        },
        {
          "output_type": "display_data",
          "data": {
            "image/png": "[encoded data removed]",
            "text/plain": [
              "<Figure size 72x72 with 1 Axes>"
            ]
          },
          "metadata": {
            "tags": []
          }
        },
        {
          "output_type": "stream",
          "text": [
            "[0. 0. 0. 0. 1. 0. 0. 0. 0. 0.]\n",
            "[1.73e-11 9.55e-10 3.81e-06 1.58e-09 1.00e+00 2.93e-06 7.36e-11 7.88e-09 2.64e-04 5.28e-07]\n"
          ],
          "name": "stdout"
        },
        {
          "output_type": "display_data",
          "data": {
            "image/png": "[encoded data removed]",
            "text/plain": [
              "<Figure size 72x72 with 1 Axes>"
            ]
          },
          "metadata": {
            "tags": []
          }
        },
        {
          "output_type": "stream",
          "text": [
            "[0. 0. 0. 0. 0. 0. 0. 0. 0. 1.]\n",
            "[3.53e-07 6.44e-06 3.94e-03 4.38e-03 5.15e-04 2.41e-04 5.63e-09 3.55e-07 2.84e-09 1.00e+00]\n"
          ],
          "name": "stdout"
        },
        {
          "output_type": "display_data",
          "data": {
            "image/png": "[encoded data removed]",
            "text/plain": [
              "<Figure size 72x72 with 1 Axes>"
            ]
          },
          "metadata": {
            "tags": []
          }
        }
      ]
    },
    {
      "cell_type": "code",
      "metadata": {
        "colab": {
          "base_uri": "https://localhost:8080/"
        },
        "id": "74Q42afMgIMc",
        "outputId": "06b1f333-df2d-41f0-b3cf-88aaa85e929d"
      },
      "source": [
        "accuracy = np.average(np.argmax(y_pred, axis=1) == np.argmax(y_test, axis=1)) * 100\n",
        "print('accuracy = {} %'.format(accuracy))"
      ],
      "execution_count": null,
      "outputs": [
        {
          "output_type": "stream",
          "text": [
            "accuracy = 98.45 %\n"
          ],
          "name": "stdout"
        }
      ]
    },
    {
      "cell_type": "markdown",
      "metadata": {
        "id": "30QdabGegQQ3"
      },
      "source": [
        "# Add softmax activation"
      ]
    },
    {
      "cell_type": "code",
      "metadata": {
        "colab": {
          "base_uri": "https://localhost:8080/"
        },
        "id": "In8liQpidYgc",
        "outputId": "e1f1b6db-ef16-427d-c0c0-e7eae37bd067"
      },
      "source": [
        "# define model\n",
        "model = keras.Sequential()\n",
        "model.add(keras.layers.Input(shape=x_train[0].shape))\n",
        "model.add(keras.layers.Flatten())\n",
        "model.add(keras.layers.Dense(units=512, activation='relu'))\n",
        "model.add(keras.layers.Dense(units=10, activation='softmax'))\n",
        "\n",
        "model.summary()"
      ],
      "execution_count": null,
      "outputs": [
        {
          "output_type": "stream",
          "text": [
            "Model: \"sequential_3\"\n",
            "_________________________________________________________________\n",
            "Layer (type)                 Output Shape              Param #   \n",
            "=================================================================\n",
            "flatten_3 (Flatten)          (None, 784)               0         \n",
            "_________________________________________________________________\n",
            "dense_6 (Dense)              (None, 512)               401920    \n",
            "_________________________________________________________________\n",
            "dense_7 (Dense)              (None, 10)                5130      \n",
            "=================================================================\n",
            "Total params: 407,050\n",
            "Trainable params: 407,050\n",
            "Non-trainable params: 0\n",
            "_________________________________________________________________\n"
          ],
          "name": "stdout"
        }
      ]
    },
    {
      "cell_type": "code",
      "metadata": {
        "id": "GQBVk7fZddSd"
      },
      "source": [
        "# compile model\n",
        "model.compile(loss='mse', optimizer='adam')\n",
        "\n",
        "# train model\n",
        "history = model.fit(x_train, y_train,\n",
        "                    validation_data=(x_test, y_test),\n",
        "                    batch_size=100,\n",
        "                    epochs=20,\n",
        "                    verbose=0,\n",
        "                    shuffle=True)"
      ],
      "execution_count": null,
      "outputs": []
    },
    {
      "cell_type": "code",
      "metadata": {
        "colab": {
          "base_uri": "https://localhost:8080/",
          "height": 870
        },
        "id": "UDkdY5_KdizF",
        "outputId": "eed54bfe-1b1a-44a6-c1db-bee8420f3ede"
      },
      "source": [
        "# show results\n",
        "y_pred = model.predict(x_test)\n",
        "np.set_printoptions(precision=2, linewidth=200)\n",
        "for i in range(8):\n",
        "  print(y_test[i])\n",
        "  print(y_pred[i])\n",
        "  plt.figure(figsize=(1, 1))\n",
        "  plt.imshow(x_test[i], cmap='gray')\n",
        "  plt.xticks([])\n",
        "  plt.yticks([])\n",
        "  plt.show()"
      ],
      "execution_count": null,
      "outputs": [
        {
          "output_type": "stream",
          "text": [
            "[0. 0. 0. 0. 0. 0. 0. 1. 0. 0.]\n",
            "[4.60e-11 6.86e-12 1.15e-10 1.14e-08 9.24e-18 5.14e-13 7.42e-15 1.00e+00 2.95e-11 3.77e-09]\n"
          ],
          "name": "stdout"
        },
        {
          "output_type": "display_data",
          "data": {
            "image/png": "[encoded data removed]",
            "text/plain": [
              "<Figure size 72x72 with 1 Axes>"
            ]
          },
          "metadata": {
            "tags": []
          }
        },
        {
          "output_type": "stream",
          "text": [
            "[0. 0. 1. 0. 0. 0. 0. 0. 0. 0.]\n",
            "[1.69e-12 1.25e-06 1.00e+00 3.25e-09 2.37e-20 3.56e-09 3.24e-09 4.05e-16 9.84e-10 1.74e-16]\n"
          ],
          "name": "stdout"
        },
        {
          "output_type": "display_data",
          "data": {
            "image/png": "[encoded data removed]",
            "text/plain": [
              "<Figure size 72x72 with 1 Axes>"
            ]
          },
          "metadata": {
            "tags": []
          }
        },
        {
          "output_type": "stream",
          "text": [
            "[0. 1. 0. 0. 0. 0. 0. 0. 0. 0.]\n",
            "[1.90e-08 1.00e+00 2.56e-06 7.44e-08 8.74e-07 5.03e-07 2.37e-07 1.77e-04 3.79e-05 1.99e-09]\n"
          ],
          "name": "stdout"
        },
        {
          "output_type": "display_data",
          "data": {
            "image/png": "[encoded data removed]",
            "text/plain": [
              "<Figure size 72x72 with 1 Axes>"
            ]
          },
          "metadata": {
            "tags": []
          }
        },
        {
          "output_type": "stream",
          "text": [
            "[1. 0. 0. 0. 0. 0. 0. 0. 0. 0.]\n",
            "[1.00e+00 4.39e-12 4.55e-08 4.29e-13 6.58e-09 2.34e-10 5.49e-08 6.13e-08 1.24e-13 6.32e-10]\n"
          ],
          "name": "stdout"
        },
        {
          "output_type": "display_data",
          "data": {
            "image/png": "[encoded data removed]",
            "text/plain": [
              "<Figure size 72x72 with 1 Axes>"
            ]
          },
          "metadata": {
            "tags": []
          }
        },
        {
          "output_type": "stream",
          "text": [
            "[0. 0. 0. 0. 1. 0. 0. 0. 0. 0.]\n",
            "[2.04e-10 1.74e-13 2.99e-09 5.89e-13 1.00e+00 1.36e-13 3.61e-10 6.22e-09 1.39e-08 6.24e-06]\n"
          ],
          "name": "stdout"
        },
        {
          "output_type": "display_data",
          "data": {
            "image/png": "[encoded data removed]",
            "text/plain": [
              "<Figure size 72x72 with 1 Axes>"
            ]
          },
          "metadata": {
            "tags": []
          }
        },
        {
          "output_type": "stream",
          "text": [
            "[0. 1. 0. 0. 0. 0. 0. 0. 0. 0.]\n",
            "[2.73e-10 1.00e+00 2.07e-09 3.63e-10 4.11e-07 1.34e-10 1.05e-10 7.90e-05 1.21e-07 1.62e-10]\n"
          ],
          "name": "stdout"
        },
        {
          "output_type": "display_data",
          "data": {
            "image/png": "[encoded data removed]",
            "text/plain": [
              "<Figure size 72x72 with 1 Axes>"
            ]
          },
          "metadata": {
            "tags": []
          }
        },
        {
          "output_type": "stream",
          "text": [
            "[0. 0. 0. 0. 1. 0. 0. 0. 0. 0.]\n",
            "[2.71e-17 1.95e-11 1.95e-12 6.59e-15 1.00e+00 1.19e-10 2.62e-11 8.86e-09 2.17e-07 2.48e-08]\n"
          ],
          "name": "stdout"
        },
        {
          "output_type": "display_data",
          "data": {
            "image/png": "[encoded data removed]",
            "text/plain": [
              "<Figure size 72x72 with 1 Axes>"
            ]
          },
          "metadata": {
            "tags": []
          }
        },
        {
          "output_type": "stream",
          "text": [
            "[0. 0. 0. 0. 0. 0. 0. 0. 0. 1.]\n",
            "[4.14e-09 1.30e-05 4.47e-04 7.50e-03 4.83e-05 1.50e-07 6.49e-12 3.68e-04 3.95e-07 9.92e-01]\n"
          ],
          "name": "stdout"
        },
        {
          "output_type": "display_data",
          "data": {
            "image/png": "[encoded data removed]",
            "text/plain": [
              "<Figure size 72x72 with 1 Axes>"
            ]
          },
          "metadata": {
            "tags": []
          }
        }
      ]
    },
    {
      "cell_type": "code",
      "metadata": {
        "colab": {
          "base_uri": "https://localhost:8080/"
        },
        "id": "IZlkSV7Cgng8",
        "outputId": "ce292445-5d9d-4389-c8fd-6719853816f0"
      },
      "source": [
        "accuracy = np.average(np.argmax(y_pred, axis=1) == np.argmax(y_test, axis=1)) * 100\n",
        "print('accuracy = {} %'.format(accuracy))"
      ],
      "execution_count": null,
      "outputs": [
        {
          "output_type": "stream",
          "text": [
            "accuracy = 98.38 %\n"
          ],
          "name": "stdout"
        }
      ]
    },
    {
      "cell_type": "markdown",
      "metadata": {
        "id": "u5jTJqYigyt5"
      },
      "source": [
        "# Use cross entropy loss"
      ]
    },
    {
      "cell_type": "code",
      "metadata": {
        "id": "_bZWIC1Tg78L"
      },
      "source": [
        "# define model\n",
        "model = keras.Sequential()\n",
        "model.add(keras.layers.Input(shape=x_train[0].shape))\n",
        "model.add(keras.layers.Flatten())\n",
        "model.add(keras.layers.Dense(units=512, activation='relu'))\n",
        "model.add(keras.layers.Dense(units=10, activation='softmax'))\n",
        "\n",
        "# compile model\n",
        "model.compile(loss='categorical_crossentropy', optimizer='adam')\n",
        "\n",
        "# train model\n",
        "history = model.fit(x_train, y_train,\n",
        "                    validation_data=(x_test, y_test),\n",
        "                    batch_size=100,\n",
        "                    epochs=20,\n",
        "                    verbose=0,\n",
        "                    shuffle=True)"
      ],
      "execution_count": null,
      "outputs": []
    },
    {
      "cell_type": "code",
      "metadata": {
        "id": "g_UrxQPlin2r",
        "colab": {
          "base_uri": "https://localhost:8080/",
          "height": 870
        },
        "outputId": "8cc3bdad-f71b-4310-f21e-bb2c701d9081"
      },
      "source": [
        "# show results\n",
        "y_pred = model.predict(x_test)\n",
        "np.set_printoptions(precision=2, linewidth=200)\n",
        "for i in range(8):\n",
        "  print(y_test[i])\n",
        "  print(y_pred[i])\n",
        "  plt.figure(figsize=(1, 1))\n",
        "  plt.imshow(x_test[i], cmap='gray')\n",
        "  plt.xticks([])\n",
        "  plt.yticks([])\n",
        "  plt.show()"
      ],
      "execution_count": null,
      "outputs": [
        {
          "output_type": "stream",
          "text": [
            "[0. 0. 0. 0. 0. 0. 0. 1. 0. 0.]\n",
            "[2.78e-14 7.78e-13 1.76e-12 2.35e-08 1.23e-19 4.44e-13 3.19e-21 1.00e+00 6.16e-14 4.08e-11]\n"
          ],
          "name": "stdout"
        },
        {
          "output_type": "display_data",
          "data": {
            "image/png": "[encoded data removed]",
            "text/plain": [
              "<Figure size 72x72 with 1 Axes>"
            ]
          },
          "metadata": {
            "tags": []
          }
        },
        {
          "output_type": "stream",
          "text": [
            "[0. 0. 1. 0. 0. 0. 0. 0. 0. 0.]\n",
            "[1.38e-15 7.01e-11 1.00e+00 1.11e-13 1.06e-29 1.89e-14 5.66e-14 6.73e-26 2.07e-14 1.33e-27]\n"
          ],
          "name": "stdout"
        },
        {
          "output_type": "display_data",
          "data": {
            "image/png": "[encoded data removed]",
            "text/plain": [
              "<Figure size 72x72 with 1 Axes>"
            ]
          },
          "metadata": {
            "tags": []
          }
        },
        {
          "output_type": "stream",
          "text": [
            "[0. 1. 0. 0. 0. 0. 0. 0. 0. 0.]\n",
            "[2.69e-10 1.00e+00 3.11e-07 8.39e-11 3.67e-08 6.85e-09 1.85e-09 9.07e-07 9.81e-07 8.53e-12]\n"
          ],
          "name": "stdout"
        },
        {
          "output_type": "display_data",
          "data": {
            "image/png": "[encoded data removed]",
            "text/plain": [
              "<Figure size 72x72 with 1 Axes>"
            ]
          },
          "metadata": {
            "tags": []
          }
        },
        {
          "output_type": "stream",
          "text": [
            "[1. 0. 0. 0. 0. 0. 0. 0. 0. 0.]\n",
            "[1.00e+00 1.81e-13 2.97e-11 3.36e-12 5.06e-16 6.32e-15 9.30e-11 3.93e-11 1.51e-18 9.92e-13]\n"
          ],
          "name": "stdout"
        },
        {
          "output_type": "display_data",
          "data": {
            "image/png": "[encoded data removed]",
            "text/plain": [
              "<Figure size 72x72 with 1 Axes>"
            ]
          },
          "metadata": {
            "tags": []
          }
        },
        {
          "output_type": "stream",
          "text": [
            "[0. 0. 0. 0. 1. 0. 0. 0. 0. 0.]\n",
            "[1.68e-12 9.43e-15 5.06e-11 5.84e-16 1.00e+00 4.77e-14 1.51e-11 2.64e-08 5.38e-11 4.13e-05]\n"
          ],
          "name": "stdout"
        },
        {
          "output_type": "display_data",
          "data": {
            "image/png": "[encoded data removed]",
            "text/plain": [
              "<Figure size 72x72 with 1 Axes>"
            ]
          },
          "metadata": {
            "tags": []
          }
        },
        {
          "output_type": "stream",
          "text": [
            "[0. 1. 0. 0. 0. 0. 0. 0. 0. 0.]\n",
            "[2.05e-13 1.00e+00 2.74e-11 2.94e-12 2.45e-08 3.54e-13 1.40e-13 6.83e-06 4.97e-08 5.81e-14]\n"
          ],
          "name": "stdout"
        },
        {
          "output_type": "display_data",
          "data": {
            "image/png": "[encoded data removed]",
            "text/plain": [
              "<Figure size 72x72 with 1 Axes>"
            ]
          },
          "metadata": {
            "tags": []
          }
        },
        {
          "output_type": "stream",
          "text": [
            "[0. 0. 0. 0. 1. 0. 0. 0. 0. 0.]\n",
            "[4.86e-20 2.70e-15 1.41e-13 6.48e-16 1.00e+00 9.56e-13 9.33e-15 1.02e-09 8.12e-08 1.36e-07]\n"
          ],
          "name": "stdout"
        },
        {
          "output_type": "display_data",
          "data": {
            "image/png": "[encoded data removed]",
            "text/plain": [
              "<Figure size 72x72 with 1 Axes>"
            ]
          },
          "metadata": {
            "tags": []
          }
        },
        {
          "output_type": "stream",
          "text": [
            "[0. 0. 0. 0. 0. 0. 0. 0. 0. 1.]\n",
            "[3.44e-13 2.83e-10 7.72e-08 2.75e-06 7.24e-07 8.08e-10 1.50e-15 4.27e-08 1.11e-11 1.00e+00]\n"
          ],
          "name": "stdout"
        },
        {
          "output_type": "display_data",
          "data": {
            "image/png": "[encoded data removed]",
            "text/plain": [
              "<Figure size 72x72 with 1 Axes>"
            ]
          },
          "metadata": {
            "tags": []
          }
        }
      ]
    },
    {
      "cell_type": "code",
      "metadata": {
        "colab": {
          "base_uri": "https://localhost:8080/"
        },
        "id": "1I2fPqHohHws",
        "outputId": "d804787c-7257-4e3a-9b6e-b37cf02eb25a"
      },
      "source": [
        "accuracy = np.average(np.argmax(y_pred, axis=1) == np.argmax(y_test, axis=1)) * 100\n",
        "print('accuracy = {} %'.format(accuracy))"
      ],
      "execution_count": null,
      "outputs": [
        {
          "output_type": "stream",
          "text": [
            "accuracy = 98.45 %\n"
          ],
          "name": "stdout"
        }
      ]
    },
    {
      "cell_type": "code",
      "metadata": {
        "id": "50rKrSpIQOt8",
        "colab": {
          "base_uri": "https://localhost:8080/",
          "height": 870
        },
        "outputId": "214fba76-1221-4de3-a580-18b76f9e1f1f"
      },
      "source": [
        "# show errors\n",
        "idx = np.where(np.argmax(y_pred, axis=1) != np.argmax(y_test, axis=1))[0]\n",
        "for i in idx[:8]:\n",
        "  print(y_test[i])\n",
        "  print(y_pred[i])\n",
        "  plt.figure(figsize=(1, 1))\n",
        "  plt.imshow(x_test[i], cmap='gray')\n",
        "  plt.xticks([])\n",
        "  plt.yticks([])\n",
        "  plt.show()"
      ],
      "execution_count": null,
      "outputs": [
        {
          "output_type": "stream",
          "text": [
            "[0. 0. 0. 0. 1. 0. 0. 0. 0. 0.]\n",
            "[2.25e-13 3.52e-13 9.88e-01 2.52e-09 1.55e-06 3.16e-12 1.21e-02 2.46e-13 7.20e-10 1.77e-20]\n"
          ],
          "name": "stdout"
        },
        {
          "output_type": "display_data",
          "data": {
            "image/png": "[encoded data removed]",
            "text/plain": [
              "<Figure size 72x72 with 1 Axes>"
            ]
          },
          "metadata": {
            "tags": []
          }
        },
        {
          "output_type": "stream",
          "text": [
            "[0. 0. 1. 0. 0. 0. 0. 0. 0. 0.]\n",
            "[3.48e-10 2.79e-09 1.61e-03 2.10e-04 1.15e-19 3.35e-13 1.06e-16 9.98e-01 5.59e-06 3.20e-09]\n"
          ],
          "name": "stdout"
        },
        {
          "output_type": "display_data",
          "data": {
            "image/png": "[encoded data removed]",
            "text/plain": [
              "<Figure size 72x72 with 1 Axes>"
            ]
          },
          "metadata": {
            "tags": []
          }
        },
        {
          "output_type": "stream",
          "text": [
            "[0. 0. 0. 0. 0. 1. 0. 0. 0. 0.]\n",
            "[2.70e-15 1.87e-07 2.38e-12 9.65e-01 2.20e-13 3.46e-02 2.31e-10 1.95e-16 1.27e-08 4.22e-12]\n"
          ],
          "name": "stdout"
        },
        {
          "output_type": "display_data",
          "data": {
            "image/png": "[encoded data removed]",
            "text/plain": [
              "<Figure size 72x72 with 1 Axes>"
            ]
          },
          "metadata": {
            "tags": []
          }
        },
        {
          "output_type": "stream",
          "text": [
            "[0. 0. 0. 0. 0. 0. 1. 0. 0. 0.]\n",
            "[9.98e-01 4.50e-16 2.55e-11 8.01e-15 1.80e-13 7.15e-09 2.12e-03 5.18e-07 2.63e-11 3.37e-12]\n"
          ],
          "name": "stdout"
        },
        {
          "output_type": "display_data",
          "data": {
            "image/png": "[encoded data removed]",
            "text/plain": [
              "<Figure size 72x72 with 1 Axes>"
            ]
          },
          "metadata": {
            "tags": []
          }
        },
        {
          "output_type": "stream",
          "text": [
            "[0. 0. 0. 0. 0. 0. 0. 0. 0. 1.]\n",
            "[2.67e-08 5.06e-08 3.87e-10 2.21e-01 7.29e-10 1.64e-04 7.92e-14 5.67e-11 5.16e-01 2.63e-01]\n"
          ],
          "name": "stdout"
        },
        {
          "output_type": "display_data",
          "data": {
            "image/png": "[encoded data removed]",
            "text/plain": [
              "<Figure size 72x72 with 1 Axes>"
            ]
          },
          "metadata": {
            "tags": []
          }
        },
        {
          "output_type": "stream",
          "text": [
            "[0. 0. 0. 0. 0. 0. 0. 0. 1. 0.]\n",
            "[2.80e-02 4.52e-10 8.64e-01 6.02e-04 3.91e-06 3.06e-07 1.65e-04 2.84e-11 1.07e-01 1.58e-09]\n"
          ],
          "name": "stdout"
        },
        {
          "output_type": "display_data",
          "data": {
            "image/png": "[encoded data removed]",
            "text/plain": [
              "<Figure size 72x72 with 1 Axes>"
            ]
          },
          "metadata": {
            "tags": []
          }
        },
        {
          "output_type": "stream",
          "text": [
            "[0. 0. 0. 0. 0. 0. 0. 0. 1. 0.]\n",
            "[2.39e-10 9.95e-03 8.70e-01 6.48e-03 1.99e-09 5.35e-12 1.42e-09 4.55e-06 1.14e-01 2.20e-12]\n"
          ],
          "name": "stdout"
        },
        {
          "output_type": "display_data",
          "data": {
            "image/png": "[encoded data removed]",
            "text/plain": [
              "<Figure size 72x72 with 1 Axes>"
            ]
          },
          "metadata": {
            "tags": []
          }
        },
        {
          "output_type": "stream",
          "text": [
            "[0. 1. 0. 0. 0. 0. 0. 0. 0. 0.]\n",
            "[1.10e-11 3.28e-03 5.47e-07 1.40e-05 1.33e-10 4.02e-10 6.52e-07 3.71e-06 9.97e-01 4.58e-12]\n"
          ],
          "name": "stdout"
        },
        {
          "output_type": "display_data",
          "data": {
            "image/png": "[encoded data removed]",
            "text/plain": [
              "<Figure size 72x72 with 1 Axes>"
            ]
          },
          "metadata": {
            "tags": []
          }
        }
      ]
    },
    {
      "cell_type": "code",
      "metadata": {
        "id": "xVabcpYbV3Di",
        "colab": {
          "base_uri": "https://localhost:8080/",
          "height": 628
        },
        "outputId": "0d8a3f1e-463b-4c93-e3e6-c2905dd2224f"
      },
      "source": [
        "# plot confusion matrix\n",
        "import sklearn.metrics\n",
        "\n",
        "y_pred = np.argmax(y_pred, axis=1)\n",
        "y_true = np.argmax(y_test, axis=1)\n",
        "\n",
        "print('Accuracy = {} %'.format(100 * np.sum(y_pred == y_true) / len(y_true)))\n",
        "\n",
        "conf = sklearn.metrics.confusion_matrix(y_true, y_pred, normalize=None)\n",
        "\n",
        "plt.imshow(conf)\n",
        "print(conf)\n",
        "\n",
        "conf_norm = sklearn.metrics.confusion_matrix(y_true, y_pred, normalize='true')\n",
        "print(conf_norm)\n"
      ],
      "execution_count": null,
      "outputs": [
        {
          "output_type": "stream",
          "text": [
            "Accuracy = 98.45 %\n",
            "[[ 972    1    1    1    1    0    1    1    2    0]\n",
            " [   0 1124    4    1    0    1    2    1    2    0]\n",
            " [   2    0 1019    1    0    0    1    5    4    0]\n",
            " [   0    0    2  999    0    2    0    2    1    4]\n",
            " [   1    1    3    1  966    0    2    0    0    8]\n",
            " [   2    0    0   10    1  873    1    1    4    0]\n",
            " [   3    3    1    1    2    2  946    0    0    0]\n",
            " [   1    2    6    1    0    0    0 1011    5    2]\n",
            " [   2    0    3    5    4    0    0    4  954    2]\n",
            " [   1    2    0    5   10    3    0    4    3  981]]\n",
            "[[9.92e-01 1.02e-03 1.02e-03 1.02e-03 1.02e-03 0.00e+00 1.02e-03 1.02e-03 2.04e-03 0.00e+00]\n",
            " [0.00e+00 9.90e-01 3.52e-03 8.81e-04 0.00e+00 8.81e-04 1.76e-03 8.81e-04 1.76e-03 0.00e+00]\n",
            " [1.94e-03 0.00e+00 9.87e-01 9.69e-04 0.00e+00 0.00e+00 9.69e-04 4.84e-03 3.88e-03 0.00e+00]\n",
            " [0.00e+00 0.00e+00 1.98e-03 9.89e-01 0.00e+00 1.98e-03 0.00e+00 1.98e-03 9.90e-04 3.96e-03]\n",
            " [1.02e-03 1.02e-03 3.05e-03 1.02e-03 9.84e-01 0.00e+00 2.04e-03 0.00e+00 0.00e+00 8.15e-03]\n",
            " [2.24e-03 0.00e+00 0.00e+00 1.12e-02 1.12e-03 9.79e-01 1.12e-03 1.12e-03 4.48e-03 0.00e+00]\n",
            " [3.13e-03 3.13e-03 1.04e-03 1.04e-03 2.09e-03 2.09e-03 9.87e-01 0.00e+00 0.00e+00 0.00e+00]\n",
            " [9.73e-04 1.95e-03 5.84e-03 9.73e-04 0.00e+00 0.00e+00 0.00e+00 9.83e-01 4.86e-03 1.95e-03]\n",
            " [2.05e-03 0.00e+00 3.08e-03 5.13e-03 4.11e-03 0.00e+00 0.00e+00 4.11e-03 9.79e-01 2.05e-03]\n",
            " [9.91e-04 1.98e-03 0.00e+00 4.96e-03 9.91e-03 2.97e-03 0.00e+00 3.96e-03 2.97e-03 9.72e-01]]\n"
          ],
          "name": "stdout"
        },
        {
          "output_type": "display_data",
          "data": {
            "image/png": "[encoded data removed]",
            "text/plain": [
              "<Figure size 432x288 with 1 Axes>"
            ]
          },
          "metadata": {
            "tags": [],
            "needs_background": "light"
          }
        }
      ]
    },
    {
      "cell_type": "code",
      "metadata": {
        "id": "jtlRKxwmj8Ty",
        "colab": {
          "base_uri": "https://localhost:8080/"
        },
        "outputId": "1b38bd70-54ce-46e7-fa9d-341e274eaf1a"
      },
      "source": [
        "# serialize model to JSON\n",
        "model_json = model.to_json()\n",
        "with open(\"/content/drive/My Drive/model.json\", \"w\") as json_file:\n",
        "    json_file.write(model_json)\n",
        "\n",
        "# serialize weights to HDF5\n",
        "model.save_weights(\"/content/drive/My Drive/model.h5\")\n",
        "print(\"Saved model to disk\")"
      ],
      "execution_count": null,
      "outputs": [
        {
          "output_type": "stream",
          "text": [
            "Saved model to disk\n"
          ],
          "name": "stdout"
        }
      ]
    },
    {
      "cell_type": "code",
      "metadata": {
        "id": "joPYJuvyn-Tl",
        "colab": {
          "base_uri": "https://localhost:8080/"
        },
        "outputId": "8507fda7-9769-4eda-c803-6a1e4018cf9f"
      },
      "source": [
        "# load json and create model\n",
        "json_file = open('/content/drive/My Drive/model.json', 'r')\n",
        "loaded_model_json = json_file.read()\n",
        "json_file.close()\n",
        "loaded_model = keras.models.model_from_json(loaded_model_json)\n",
        "\n",
        "# load weights into new model\n",
        "loaded_model.load_weights(\"/content/drive/My Drive/model.h5\")\n",
        "print(\"Loaded model from disk\")"
      ],
      "execution_count": null,
      "outputs": [
        {
          "output_type": "stream",
          "text": [
            "Loaded model from disk\n"
          ],
          "name": "stdout"
        }
      ]
    }
  ]
}
